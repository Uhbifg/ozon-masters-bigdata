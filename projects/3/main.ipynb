{
 "cells": [
  {
   "cell_type": "code",
   "execution_count": 540,
   "id": "treated-exhaust",
   "metadata": {},
   "outputs": [],
   "source": [
    "import os\n",
    "import sys\n",
    "\n",
    "\n",
    "SPARK_HOME = \"/usr/hdp/current/spark2-client\"\n",
    "PYSPARK_PYTHON = \"/opt/conda/envs/dsenv/bin/python\"\n",
    "os.environ[\"PYSPARK_PYTHON\"]= PYSPARK_PYTHON\n",
    "os.environ[\"SPARK_HOME\"] = SPARK_HOME\n",
    "os.environ[\"PYTHONHASHSEED\"] = \"42\"\n",
    "PYSPARK_HOME = os.path.join(SPARK_HOME, \"python/lib\")\n",
    "sys.path.insert(0, os.path.join(PYSPARK_HOME, \"py4j-0.10.7-src.zip\"))\n",
    "sys.path.insert(0, os.path.join(PYSPARK_HOME, \"pyspark.zip\"))"
   ]
  },
  {
   "cell_type": "code",
   "execution_count": 541,
   "id": "capable-official",
   "metadata": {},
   "outputs": [
    {
     "ename": "ValueError",
     "evalue": "Cannot run multiple SparkContexts at once; existing SparkContext(app=hw_3_Uhbifg_1, master=yarn) created by __init__ at <ipython-input-515-bbbc8b4fe7cc>:6 ",
     "output_type": "error",
     "traceback": [
      "\u001b[0;31m---------------------------------------------------------------------------\u001b[0m",
      "\u001b[0;31mValueError\u001b[0m                                Traceback (most recent call last)",
      "\u001b[0;32m<ipython-input-541-bbbc8b4fe7cc>\u001b[0m in \u001b[0;36m<module>\u001b[0;34m\u001b[0m\n\u001b[1;32m      4\u001b[0m \u001b[0;34m\u001b[0m\u001b[0m\n\u001b[1;32m      5\u001b[0m \u001b[0mconf\u001b[0m \u001b[0;34m=\u001b[0m \u001b[0mSparkConf\u001b[0m\u001b[0;34m(\u001b[0m\u001b[0;34m)\u001b[0m\u001b[0;34m\u001b[0m\u001b[0;34m\u001b[0m\u001b[0m\n\u001b[0;32m----> 6\u001b[0;31m \u001b[0msc\u001b[0m \u001b[0;34m=\u001b[0m \u001b[0mSparkContext\u001b[0m\u001b[0;34m(\u001b[0m\u001b[0mappName\u001b[0m\u001b[0;34m=\u001b[0m\u001b[0;34m\"hw_3_Uhbifg_1\"\u001b[0m\u001b[0;34m,\u001b[0m \u001b[0mconf\u001b[0m\u001b[0;34m=\u001b[0m\u001b[0mconf\u001b[0m\u001b[0;34m)\u001b[0m\u001b[0;34m\u001b[0m\u001b[0;34m\u001b[0m\u001b[0m\n\u001b[0m",
      "\u001b[0;32m/usr/hdp/current/spark2-client/python/lib/pyspark.zip/pyspark/context.py\u001b[0m in \u001b[0;36m__init__\u001b[0;34m(self, master, appName, sparkHome, pyFiles, environment, batchSize, serializer, conf, gateway, jsc, profiler_cls)\u001b[0m\n\u001b[1;32m    131\u001b[0m                     \" note this option will be removed in Spark 3.0\")\n\u001b[1;32m    132\u001b[0m \u001b[0;34m\u001b[0m\u001b[0m\n\u001b[0;32m--> 133\u001b[0;31m         \u001b[0mSparkContext\u001b[0m\u001b[0;34m.\u001b[0m\u001b[0m_ensure_initialized\u001b[0m\u001b[0;34m(\u001b[0m\u001b[0mself\u001b[0m\u001b[0;34m,\u001b[0m \u001b[0mgateway\u001b[0m\u001b[0;34m=\u001b[0m\u001b[0mgateway\u001b[0m\u001b[0;34m,\u001b[0m \u001b[0mconf\u001b[0m\u001b[0;34m=\u001b[0m\u001b[0mconf\u001b[0m\u001b[0;34m)\u001b[0m\u001b[0;34m\u001b[0m\u001b[0;34m\u001b[0m\u001b[0m\n\u001b[0m\u001b[1;32m    134\u001b[0m         \u001b[0;32mtry\u001b[0m\u001b[0;34m:\u001b[0m\u001b[0;34m\u001b[0m\u001b[0;34m\u001b[0m\u001b[0m\n\u001b[1;32m    135\u001b[0m             self._do_init(master, appName, sparkHome, pyFiles, environment, batchSize, serializer,\n",
      "\u001b[0;32m/usr/hdp/current/spark2-client/python/lib/pyspark.zip/pyspark/context.py\u001b[0m in \u001b[0;36m_ensure_initialized\u001b[0;34m(cls, instance, gateway, conf)\u001b[0m\n\u001b[1;32m    330\u001b[0m                         \u001b[0;34m\" created by %s at %s:%s \"\u001b[0m\u001b[0;34m\u001b[0m\u001b[0;34m\u001b[0m\u001b[0m\n\u001b[1;32m    331\u001b[0m                         % (currentAppName, currentMaster,\n\u001b[0;32m--> 332\u001b[0;31m                             callsite.function, callsite.file, callsite.linenum))\n\u001b[0m\u001b[1;32m    333\u001b[0m                 \u001b[0;32melse\u001b[0m\u001b[0;34m:\u001b[0m\u001b[0;34m\u001b[0m\u001b[0;34m\u001b[0m\u001b[0m\n\u001b[1;32m    334\u001b[0m                     \u001b[0mSparkContext\u001b[0m\u001b[0;34m.\u001b[0m\u001b[0m_active_spark_context\u001b[0m \u001b[0;34m=\u001b[0m \u001b[0minstance\u001b[0m\u001b[0;34m\u001b[0m\u001b[0;34m\u001b[0m\u001b[0m\n",
      "\u001b[0;31mValueError\u001b[0m: Cannot run multiple SparkContexts at once; existing SparkContext(app=hw_3_Uhbifg_1, master=yarn) created by __init__ at <ipython-input-515-bbbc8b4fe7cc>:6 "
     ]
    }
   ],
   "source": [
    "from pyspark import SparkContext, SparkConf\n",
    "import sys\n",
    "\n",
    "\n",
    "conf = SparkConf()\n",
    "sc = SparkContext(appName=\"hw_3_Uhbifg_1\", conf=conf)\n"
   ]
  },
  {
   "cell_type": "code",
   "execution_count": 542,
   "id": "associate-stress",
   "metadata": {},
   "outputs": [],
   "source": [
    "start_node = 12 # sys.argv[1]\n",
    "end_node = 34 # sys.argv[2]\n",
    "path_data = \"/datasets/twitter/twitter.tsv\"# sys.argv[3]\n",
    "path_ans = \"output_1\"# sys.argv[4]"
   ]
  },
  {
   "cell_type": "code",
   "execution_count": 543,
   "id": "facial-bosnia",
   "metadata": {},
   "outputs": [],
   "source": [
    "raw_graph = sc.textFile(path_data)\n",
    "graph = raw_graph.map(lambda x: map(int, x.split(\"\\t\")[::-1])).cache()\n",
    "links = graph.groupByKey().partitionBy(sc.defaultParallelism).mapValues(list).cache()     \n"
   ]
  },
  {
   "cell_type": "code",
   "execution_count": 545,
   "id": "adapted-response",
   "metadata": {},
   "outputs": [],
   "source": [
    "w = dict(links.collect())"
   ]
  },
  {
   "cell_type": "code",
   "execution_count": 546,
   "id": "musical-validation",
   "metadata": {},
   "outputs": [],
   "source": [
    "def search(x1, x2, x3, seen):\n",
    "    ans = list()\n",
    "    a = x3[x1]\n",
    "    for i in a:\n",
    "        if i not in seen:\n",
    "            ans.append(tuple([i, x2 + [i]]))\n",
    "    return ans\n",
    "\n",
    "\n",
    "links = graph.groupByKey().mapValues(list).cache()     \n",
    "answers = []\n",
    "pathes = sc.parallelize([(start_node, [start_node])])\n",
    "seen = set([start_node])\n",
    "num = 0\n",
    "while True:\n",
    "    if pathes.count() == 0:\n",
    "        ans = sc.parallelize([])\n",
    "        break\n",
    "    ans = pathes.filter(lambda x : x[0] == end_node)\n",
    "    if ans.count() > 0:\n",
    "        break\n",
    "    else:\n",
    "        rdd2 = pathes.map(lambda x : x[0], preservesPartitioning=True).distinct().collect()\n",
    "        neigbours = dict() \n",
    "        for i in rdd2:\n",
    "            neigbours[i] = w.get(i, [])\n",
    "        pathes = sc.parallelize(pathes.flatMap(lambda x : search(x[0], x[1], neigbours, seen), preservesPartitioning=True).collect())\n",
    "        seen.update(pathes.map(lambda x : x[0]).distinct().collect())\n",
    "ans = ans.map(lambda x : x[1])"
   ]
  },
  {
   "cell_type": "code",
   "execution_count": 547,
   "id": "amended-people",
   "metadata": {},
   "outputs": [
    {
     "data": {
      "text/plain": [
       "[[12, 14, 34], [12, 21, 34], [12, 23, 34], [12, 295, 34], [12, 322, 34]]"
      ]
     },
     "execution_count": 547,
     "metadata": {},
     "output_type": "execute_result"
    }
   ],
   "source": [
    "ans.collect()"
   ]
  },
  {
   "cell_type": "code",
   "execution_count": 565,
   "id": "sitting-carroll",
   "metadata": {},
   "outputs": [],
   "source": [
    "path_ans = \"1.csv\""
   ]
  },
  {
   "cell_type": "code",
   "execution_count": 585,
   "id": "eleven-gnome",
   "metadata": {},
   "outputs": [],
   "source": [
    "def toCSVLine(data):\n",
    "    return ','.join(str(d) for d in data)\n",
    "\n",
    "lines = ans.map(toCSVLine)\n",
    "lines.coalesce(1).saveAsTextFile(path_ans)"
   ]
  },
  {
   "cell_type": "code",
   "execution_count": 578,
   "id": "bright-reserve",
   "metadata": {},
   "outputs": [],
   "source": [
    "read_rdd = sc.textFile(\"1.csv\")\n"
   ]
  },
  {
   "cell_type": "code",
   "execution_count": 579,
   "id": "living-macedonia",
   "metadata": {},
   "outputs": [
    {
     "data": {
      "text/plain": [
       "['12,295,34', '12,322,34', '12,14,34', '12,21,34', '12,23,34']"
      ]
     },
     "execution_count": 579,
     "metadata": {},
     "output_type": "execute_result"
    }
   ],
   "source": [
    "read_rdd.collect()"
   ]
  },
  {
   "cell_type": "code",
   "execution_count": 553,
   "id": "peripheral-commons",
   "metadata": {},
   "outputs": [
    {
     "data": {
      "text/plain": [
       "['12,14,34', '12,21,34', '12,23,34', '12,295,34', '12,322,34']"
      ]
     },
     "execution_count": 553,
     "metadata": {},
     "output_type": "execute_result"
    }
   ],
   "source": [
    "lines.collect()"
   ]
  },
  {
   "cell_type": "code",
   "execution_count": 557,
   "id": "yellow-summit",
   "metadata": {},
   "outputs": [
    {
     "name": "stdout",
     "output_type": "stream",
     "text": [
      "-rm: Illegal option -rf\r\n",
      "Usage: hadoop fs [generic options]\r\n",
      "\t[-appendToFile <localsrc> ... <dst>]\r\n",
      "\t[-cat [-ignoreCrc] <src> ...]\r\n",
      "\t[-checksum <src> ...]\r\n",
      "\t[-chgrp [-R] GROUP PATH...]\r\n",
      "\t[-chmod [-R] <MODE[,MODE]... | OCTALMODE> PATH...]\r\n",
      "\t[-chown [-R] [OWNER][:[GROUP]] PATH...]\r\n",
      "\t[-copyFromLocal [-f] [-p] [-l] [-d] [-t <thread count>] <localsrc> ... <dst>]\r\n",
      "\t[-copyToLocal [-f] [-p] [-ignoreCrc] [-crc] <src> ... <localdst>]\r\n",
      "\t[-count [-q] [-h] [-v] [-t [<storage type>]] [-u] [-x] [-e] <path> ...]\r\n",
      "\t[-cp [-f] [-p | -p[topax]] [-d] <src> ... <dst>]\r\n",
      "\t[-createSnapshot <snapshotDir> [<snapshotName>]]\r\n",
      "\t[-deleteSnapshot <snapshotDir> <snapshotName>]\r\n",
      "\t[-df [-h] [<path> ...]]\r\n",
      "\t[-du [-s] [-h] [-v] [-x] <path> ...]\r\n",
      "\t[-expunge]\r\n",
      "\t[-find <path> ... <expression> ...]\r\n",
      "\t[-get [-f] [-p] [-ignoreCrc] [-crc] <src> ... <localdst>]\r\n",
      "\t[-getfacl [-R] <path>]\r\n",
      "\t[-getfattr [-R] {-n name | -d} [-e en] <path>]\r\n",
      "\t[-getmerge [-nl] [-skip-empty-file] <src> <localdst>]\r\n",
      "\t[-head <file>]\r\n",
      "\t[-help [cmd ...]]\r\n",
      "\t[-ls [-C] [-d] [-h] [-q] [-R] [-t] [-S] [-r] [-u] [-e] [<path> ...]]\r\n",
      "\t[-mkdir [-p] <path> ...]\r\n",
      "\t[-moveFromLocal <localsrc> ... <dst>]\r\n",
      "\t[-moveToLocal <src> <localdst>]\r\n",
      "\t[-mv <src> ... <dst>]\r\n",
      "\t[-put [-f] [-p] [-l] [-d] <localsrc> ... <dst>]\r\n",
      "\t[-renameSnapshot <snapshotDir> <oldName> <newName>]\r\n",
      "\t[-rm [-f] [-r|-R] [-skipTrash] [-safely] <src> ...]\r\n",
      "\t[-rmdir [--ignore-fail-on-non-empty] <dir> ...]\r\n",
      "\t[-setfacl [-R] [{-b|-k} {-m|-x <acl_spec>} <path>]|[--set <acl_spec> <path>]]\r\n",
      "\t[-setfattr {-n name [-v value] | -x name} <path>]\r\n",
      "\t[-setrep [-R] [-w] <rep> <path> ...]\r\n",
      "\t[-stat [format] <path> ...]\r\n",
      "\t[-tail [-f] <file>]\r\n",
      "\t[-test -[defsz] <path>]\r\n",
      "\t[-text [-ignoreCrc] <src> ...]\r\n",
      "\t[-touch [-a] [-m] [-t TIMESTAMP ] [-c] <path> ...]\r\n",
      "\t[-touchz <path> ...]\r\n",
      "\t[-truncate [-w] <length> <path> ...]\r\n",
      "\t[-usage [cmd ...]]\r\n",
      "\r\n",
      "Generic options supported are:\r\n",
      "-conf <configuration file>        specify an application configuration file\r\n",
      "-D <property=value>               define a value for a given property\r\n",
      "-fs <file:///|hdfs://namenode:port> specify default filesystem URL to use, overrides 'fs.defaultFS' property from configurations.\r\n",
      "-jt <local|resourcemanager:port>  specify a ResourceManager\r\n",
      "-files <file1,...>                specify a comma-separated list of files to be copied to the map reduce cluster\r\n",
      "-libjars <jar1,...>               specify a comma-separated list of jar files to be included in the classpath\r\n",
      "-archives <archive1,...>          specify a comma-separated list of archives to be unarchived on the compute machines\r\n",
      "\r\n",
      "The general command line syntax is:\r\n",
      "command [genericOptions] [commandOptions]\r\n",
      "\r\n",
      "Usage: hadoop fs [generic options] -rm [-f] [-r|-R] [-skipTrash] [-safely] <src> ...\r\n"
     ]
    }
   ],
   "source": [
    "!hdfs dfs -rm -rf 1.csv"
   ]
  },
  {
   "cell_type": "code",
   "execution_count": 586,
   "id": "recreational-yemen",
   "metadata": {},
   "outputs": [
    {
     "name": "stdout",
     "output_type": "stream",
     "text": [
      "Found 13 items\r\n",
      "drwx------   - Uhbifg Uhbifg          0 2021-03-30 02:51 .Trash\r\n",
      "drwxr-xr-x   - Uhbifg Uhbifg          0 2021-03-03 14:12 .hiveJars\r\n",
      "drwxr-xr-x   - Uhbifg Uhbifg          0 2021-03-30 02:32 .sparkStaging\r\n",
      "drwx------   - Uhbifg Uhbifg          0 2021-02-24 14:46 .staging\r\n",
      "drwxr-xr-x   - Uhbifg Uhbifg          0 2021-03-30 02:56 1.csv\r\n",
      "drwxr-xr-x   - Uhbifg Uhbifg          0 2021-03-30 00:04 1.csv1\r\n",
      "drwxr-xr-x   - Uhbifg Uhbifg          0 2021-03-30 02:30 1.txt\r\n",
      "drwxr-xr-x   - Uhbifg Uhbifg          0 2021-03-14 22:44 Uhbifg_hiveout\r\n",
      "drwxr-xr-x   - Uhbifg Uhbifg          0 2021-03-30 02:24 Uhbifg_hw3_output\r\n",
      "drwx------   - Uhbifg Uhbifg          0 2021-02-15 10:40 hwzero\r\n",
      "drwxr-xr-x   - Uhbifg Uhbifg          0 2021-03-29 23:55 output\r\n",
      "drwxr-xr-x   - Uhbifg Uhbifg          0 2021-03-29 23:56 output_1\r\n",
      "drwxr-xr-x   - Uhbifg Uhbifg          0 2021-02-23 13:33 pred_with_filter\r\n"
     ]
    }
   ],
   "source": [
    "!hdfs dfs -ls "
   ]
  },
  {
   "cell_type": "code",
   "execution_count": 587,
   "id": "cleared-truth",
   "metadata": {},
   "outputs": [
    {
     "name": "stdout",
     "output_type": "stream",
     "text": [
      "cat: `1.csv': Is a directory\r\n"
     ]
    }
   ],
   "source": [
    "!hdfs dfs -cat 1.csv"
   ]
  },
  {
   "cell_type": "code",
   "execution_count": 590,
   "id": "asian-flush",
   "metadata": {},
   "outputs": [
    {
     "name": "stdout",
     "output_type": "stream",
     "text": [
      "12,14,34\r\n",
      "12,21,34\r\n",
      "12,23,34\r\n",
      "12,295,34\r\n",
      "12,322,34\r\n"
     ]
    }
   ],
   "source": [
    "!hdfs dfs -cat 1.csv/part-00000"
   ]
  },
  {
   "cell_type": "code",
   "execution_count": 582,
   "id": "elegant-exhibit",
   "metadata": {},
   "outputs": [
    {
     "name": "stdout",
     "output_type": "stream",
     "text": [
      "21/03/30 02:55:21 INFO fs.TrashPolicyDefault: Moved: 'hdfs://name1.ru-central1.internal:8020/user/Uhbifg/1.csv' to trash at: hdfs://name1.ru-central1.internal:8020/user/Uhbifg/.Trash/Current/user/Uhbifg/1.csv1617072921217\r\n"
     ]
    }
   ],
   "source": [
    "!hdfs dfs -rm -r -f 1.csv"
   ]
  },
  {
   "cell_type": "code",
   "execution_count": 589,
   "id": "general-threshold",
   "metadata": {},
   "outputs": [
    {
     "name": "stdout",
     "output_type": "stream",
     "text": [
      "Found 2 items\r\n",
      "-rw-r--r--   3 Uhbifg Uhbifg          0 2021-03-30 02:56 1.csv/_SUCCESS\r\n",
      "-rw-r--r--   3 Uhbifg Uhbifg         47 2021-03-30 02:56 1.csv/part-00000\r\n"
     ]
    }
   ],
   "source": [
    "!hdfs dfs -ls 1.csv"
   ]
  },
  {
   "cell_type": "code",
   "execution_count": null,
   "id": "sensitive-india",
   "metadata": {},
   "outputs": [],
   "source": []
  }
 ],
 "metadata": {
  "kernelspec": {
   "display_name": "dsenv",
   "language": "python",
   "name": "dsenv"
  },
  "language_info": {
   "codemirror_mode": {
    "name": "ipython",
    "version": 3
   },
   "file_extension": ".py",
   "mimetype": "text/x-python",
   "name": "python",
   "nbconvert_exporter": "python",
   "pygments_lexer": "ipython3",
   "version": "3.7.9"
  }
 },
 "nbformat": 4,
 "nbformat_minor": 5
}
